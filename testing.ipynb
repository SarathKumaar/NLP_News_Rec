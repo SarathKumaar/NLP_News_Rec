{
 "cells": [
  {
   "cell_type": "code",
   "execution_count": 1,
   "id": "f094af18",
   "metadata": {},
   "outputs": [],
   "source": [
    "import tensorflow as tf"
   ]
  },
  {
   "cell_type": "code",
   "execution_count": 2,
   "id": "571e9f72",
   "metadata": {},
   "outputs": [
    {
     "name": "stderr",
     "output_type": "stream",
     "text": [
      "2022-06-04 12:20:35.149583: I tensorflow/core/platform/cpu_feature_guard.cc:152] This TensorFlow binary is optimized with oneAPI Deep Neural Network Library (oneDNN) to use the following CPU instructions in performance-critical operations:  SSE3 SSE4.1 SSE4.2 AVX\n",
      "To enable them in other operations, rebuild TensorFlow with the appropriate compiler flags.\n",
      "2022-06-04 12:20:35.747307: I tensorflow/core/common_runtime/gpu/gpu_device.cc:1525] Created device /job:localhost/replica:0/task:0/device:GPU:0 with 14807 MB memory:  -> device: 0, name: Quadro RTX 5000, pci bus id: 0000:3f:00.0, compute capability: 7.5\n"
     ]
    }
   ],
   "source": [
    "model1 = tf.keras.models.load_model('value_model_350')"
   ]
  },
  {
   "cell_type": "code",
   "execution_count": 3,
   "id": "eebaac8c",
   "metadata": {},
   "outputs": [
    {
     "name": "stdout",
     "output_type": "stream",
     "text": [
      "Model: \"model\"\n",
      "__________________________________________________________________________________________________\n",
      " Layer (type)                   Output Shape         Param #     Connected to                     \n",
      "==================================================================================================\n",
      " input_ids (InputLayer)         [(None, 350)]        0           []                               \n",
      "                                                                                                  \n",
      " attention_mask (InputLayer)    [(None, 350)]        0           []                               \n",
      "                                                                                                  \n",
      " bert (Custom>TFBertMainLayer)  {'last_hidden_state  108310272   ['input_ids[0][0]',              \n",
      "                                ': (None, 350, 768)               'attention_mask[0][0]']         \n",
      "                                , 'pooler_output':                                                \n",
      "                                (None, 768)}                                                      \n",
      "                                                                                                  \n",
      " dense (Dense)                  (None, 1024)         787456      ['bert[0][1]']                   \n",
      "                                                                                                  \n",
      " outputs (Dense)                (None, 3)            3075        ['dense[0][0]']                  \n",
      "                                                                                                  \n",
      "==================================================================================================\n",
      "Total params: 109,100,803\n",
      "Trainable params: 109,100,803\n",
      "Non-trainable params: 0\n",
      "__________________________________________________________________________________________________\n"
     ]
    }
   ],
   "source": [
    "model1.summary()"
   ]
  },
  {
   "cell_type": "code",
   "execution_count": 4,
   "id": "b1729657",
   "metadata": {},
   "outputs": [],
   "source": [
    "from transformers import BertTokenizer"
   ]
  },
  {
   "cell_type": "code",
   "execution_count": 5,
   "id": "24c18f1b",
   "metadata": {},
   "outputs": [],
   "source": [
    "tokenizer = BertTokenizer.from_pretrained('bert-base-cased')"
   ]
  },
  {
   "cell_type": "code",
   "execution_count": 10,
   "id": "0ac1c61e",
   "metadata": {},
   "outputs": [],
   "source": [
    "seq_len = 350\n",
    "def prep_data(text):\n",
    "    tokens = tokenizer.encode_plus(text, max_length = 350, truncation=True, padding='max_length',\n",
    "                                   add_special_tokens=True, return_token_type_ids=False, return_tensors='tf')\n",
    "    return {\n",
    "        'input_ids':tf.cast(tokens['input_ids'], tf.float32),\n",
    "        'attention_mask':tf.cast(tokens['attention_mask'], tf.float32)\n",
    "    }"
   ]
  },
  {
   "cell_type": "raw",
   "id": "c741f25b",
   "metadata": {},
   "source": [
    "seq_len = 350\n",
    "def prep_data(text):\n",
    "    tokens = tokenizer.encode_plus(text, max_length = 350, truncation=True, padding='max_length',\n",
    "                                   add_special_tokens=True, return_token_type_ids=False, return_tensors='tf')\n",
    "    return {\n",
    "        'input_ids':tokens['input_ids'],\n",
    "        'attention_mask':tokens['attention_mask']\n",
    "    }"
   ]
  },
  {
   "cell_type": "code",
   "execution_count": 11,
   "id": "9ecfbcef",
   "metadata": {},
   "outputs": [],
   "source": [
    "import pandas as pd\n",
    "\n",
    "test_df = pd.read_csv('Data/test.csv')\n",
    "train = pd.read_csv('train.csv')"
   ]
  },
  {
   "cell_type": "code",
   "execution_count": 12,
   "id": "6ec4de46",
   "metadata": {},
   "outputs": [
    {
     "data": {
      "text/html": [
       "<div>\n",
       "<style scoped>\n",
       "    .dataframe tbody tr th:only-of-type {\n",
       "        vertical-align: middle;\n",
       "    }\n",
       "\n",
       "    .dataframe tbody tr th {\n",
       "        vertical-align: top;\n",
       "    }\n",
       "\n",
       "    .dataframe thead th {\n",
       "        text-align: right;\n",
       "    }\n",
       "</style>\n",
       "<table border=\"1\" class=\"dataframe\">\n",
       "  <thead>\n",
       "    <tr style=\"text-align: right;\">\n",
       "      <th></th>\n",
       "      <th>scenario</th>\n",
       "      <th>label</th>\n",
       "    </tr>\n",
       "  </thead>\n",
       "  <tbody>\n",
       "    <tr>\n",
       "      <th>0</th>\n",
       "      <td>[POWER] After accomplishing every task I cross...</td>\n",
       "      <td>2</td>\n",
       "    </tr>\n",
       "    <tr>\n",
       "      <th>1</th>\n",
       "      <td>[CONFORMITY] when i was a young boy, i told on...</td>\n",
       "      <td>0</td>\n",
       "    </tr>\n",
       "    <tr>\n",
       "      <th>2</th>\n",
       "      <td>[BENEVOLENCE] getting mad at my mom for not le...</td>\n",
       "      <td>0</td>\n",
       "    </tr>\n",
       "    <tr>\n",
       "      <th>3</th>\n",
       "      <td>[BENEVOLENCE] sleeping with my friend's roomat...</td>\n",
       "      <td>0</td>\n",
       "    </tr>\n",
       "    <tr>\n",
       "      <th>4</th>\n",
       "      <td>[BENEVOLENCE] laughing about a boy's disgrace</td>\n",
       "      <td>0</td>\n",
       "    </tr>\n",
       "  </tbody>\n",
       "</table>\n",
       "</div>"
      ],
      "text/plain": [
       "                                            scenario  label\n",
       "0  [POWER] After accomplishing every task I cross...      2\n",
       "1  [CONFORMITY] when i was a young boy, i told on...      0\n",
       "2  [BENEVOLENCE] getting mad at my mom for not le...      0\n",
       "3  [BENEVOLENCE] sleeping with my friend's roomat...      0\n",
       "4      [BENEVOLENCE] laughing about a boy's disgrace      0"
      ]
     },
     "execution_count": 12,
     "metadata": {},
     "output_type": "execute_result"
    }
   ],
   "source": [
    "#test_df.drop('Unnamed: 0', inplace=True, axis=1)\n",
    "test_df['label'] = test_df['label'] + 1\n",
    "\n",
    "train['label'] = train['label'] + 1\n",
    "train.head()"
   ]
  },
  {
   "cell_type": "code",
   "execution_count": 13,
   "id": "79d0419c",
   "metadata": {},
   "outputs": [],
   "source": [
    "import numpy as np"
   ]
  },
  {
   "cell_type": "code",
   "execution_count": null,
   "id": "220a6c8a",
   "metadata": {},
   "outputs": [],
   "source": [
    "total=0\n",
    "for i, thing in enumerate(train['scenario']):\n",
    "    token = prep_data(thing)\n",
    "    result = np.argmax(model1.predict(token))\n",
    "    if result == train['label'][i]:\n",
    "        total += 1"
   ]
  },
  {
   "cell_type": "code",
   "execution_count": null,
   "id": "15ed90fd",
   "metadata": {},
   "outputs": [],
   "source": [
    "total_test=0\n",
    "for i, thing in enumerate(test_df['scenario']):\n",
    "    token = prep_data(thing)\n",
    "    result = np.argmax(model1.predict(token))\n",
    "    if result == test_df['label'][i]:\n",
    "        total_test += 1"
   ]
  },
  {
   "cell_type": "code",
   "execution_count": 15,
   "id": "33d79dac",
   "metadata": {},
   "outputs": [
    {
     "name": "stdout",
     "output_type": "stream",
     "text": [
      "0.040161346895826025\n"
     ]
    }
   ],
   "source": [
    "print(total_test/len(train))"
   ]
  }
 ],
 "metadata": {
  "kernelspec": {
   "display_name": "Python 3 (ipykernel)",
   "language": "python",
   "name": "python3"
  },
  "language_info": {
   "codemirror_mode": {
    "name": "ipython",
    "version": 3
   },
   "file_extension": ".py",
   "mimetype": "text/x-python",
   "name": "python",
   "nbconvert_exporter": "python",
   "pygments_lexer": "ipython3",
   "version": "3.8.10"
  }
 },
 "nbformat": 4,
 "nbformat_minor": 5
}
